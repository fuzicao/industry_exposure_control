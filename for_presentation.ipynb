{
 "cells": [
  {
   "cell_type": "markdown",
   "metadata": {},
   "source": [
    "A portfolio manager submitted an alpha portfolio of ZZ500, but some of its industry exposures exceed the limit. Please provide a solution and program to implement the corresponding algorithm to control the industry exposures of the portfolio so that none of any industry exposure exceeds the limit. Mainwhile, please reasonably keep as much as possible the excess return of the portfolio.\n",
    "\n",
    "Data: industry classification of each stock on the day, ZZ500 weights, alpha portfolio\n",
    "\n",
    "The industry exposure limit is 7%."
   ]
  },
  {
   "cell_type": "code",
   "execution_count": 1,
   "metadata": {},
   "outputs": [],
   "source": [
    "import pandas as pd\n",
    "import numpy as np\n",
    "from scipy.optimize import minimize"
   ]
  },
  {
   "cell_type": "code",
   "execution_count": 2,
   "metadata": {},
   "outputs": [],
   "source": [
    "# Part 1: read the data\n",
    "df_industry = pd.read_csv('stock_industry.csv')[['SecurityID','ZXF']]\n",
    "df_alpha = pd.read_csv('alpha.txt', delimiter = \"|\")"
   ]
  },
  {
   "cell_type": "code",
   "execution_count": 3,
   "metadata": {},
   "outputs": [
    {
     "data": {
      "text/html": [
       "<div>\n",
       "<style scoped>\n",
       "    .dataframe tbody tr th:only-of-type {\n",
       "        vertical-align: middle;\n",
       "    }\n",
       "\n",
       "    .dataframe tbody tr th {\n",
       "        vertical-align: top;\n",
       "    }\n",
       "\n",
       "    .dataframe thead th {\n",
       "        text-align: right;\n",
       "    }\n",
       "</style>\n",
       "<table border=\"1\" class=\"dataframe\">\n",
       "  <thead>\n",
       "    <tr style=\"text-align: right;\">\n",
       "      <th></th>\n",
       "      <th>SecurityID</th>\n",
       "      <th>ZXF</th>\n",
       "    </tr>\n",
       "  </thead>\n",
       "  <tbody>\n",
       "    <tr>\n",
       "      <th>0</th>\n",
       "      <td>000001.SZE</td>\n",
       "      <td>40</td>\n",
       "    </tr>\n",
       "    <tr>\n",
       "      <th>1</th>\n",
       "      <td>000002.SZE</td>\n",
       "      <td>42</td>\n",
       "    </tr>\n",
       "    <tr>\n",
       "      <th>2</th>\n",
       "      <td>000004.SZE</td>\n",
       "      <td>35</td>\n",
       "    </tr>\n",
       "    <tr>\n",
       "      <th>3</th>\n",
       "      <td>000005.SZE</td>\n",
       "      <td>20</td>\n",
       "    </tr>\n",
       "    <tr>\n",
       "      <th>4</th>\n",
       "      <td>000006.SZE</td>\n",
       "      <td>42</td>\n",
       "    </tr>\n",
       "  </tbody>\n",
       "</table>\n",
       "</div>"
      ],
      "text/plain": [
       "   SecurityID ZXF\n",
       "0  000001.SZE  40\n",
       "1  000002.SZE  42\n",
       "2  000004.SZE  35\n",
       "3  000005.SZE  20\n",
       "4  000006.SZE  42"
      ]
     },
     "execution_count": 3,
     "metadata": {},
     "output_type": "execute_result"
    }
   ],
   "source": [
    "df_industry.head()"
   ]
  },
  {
   "cell_type": "code",
   "execution_count": 4,
   "metadata": {},
   "outputs": [
    {
     "data": {
      "text/html": [
       "<div>\n",
       "<style scoped>\n",
       "    .dataframe tbody tr th:only-of-type {\n",
       "        vertical-align: middle;\n",
       "    }\n",
       "\n",
       "    .dataframe tbody tr th {\n",
       "        vertical-align: top;\n",
       "    }\n",
       "\n",
       "    .dataframe thead th {\n",
       "        text-align: right;\n",
       "    }\n",
       "</style>\n",
       "<table border=\"1\" class=\"dataframe\">\n",
       "  <thead>\n",
       "    <tr style=\"text-align: right;\">\n",
       "      <th></th>\n",
       "      <th>[1]SecuCode</th>\n",
       "      <th>[2]TradingDay</th>\n",
       "      <th>[3]Weight</th>\n",
       "    </tr>\n",
       "  </thead>\n",
       "  <tbody>\n",
       "    <tr>\n",
       "      <th>0</th>\n",
       "      <td>601318.SSE</td>\n",
       "      <td>20191231</td>\n",
       "      <td>6.715</td>\n",
       "    </tr>\n",
       "    <tr>\n",
       "      <th>1</th>\n",
       "      <td>600519.SSE</td>\n",
       "      <td>20191231</td>\n",
       "      <td>4.312</td>\n",
       "    </tr>\n",
       "    <tr>\n",
       "      <th>2</th>\n",
       "      <td>600036.SSE</td>\n",
       "      <td>20191231</td>\n",
       "      <td>2.812</td>\n",
       "    </tr>\n",
       "    <tr>\n",
       "      <th>3</th>\n",
       "      <td>000651.SZE</td>\n",
       "      <td>20191231</td>\n",
       "      <td>2.289</td>\n",
       "    </tr>\n",
       "    <tr>\n",
       "      <th>4</th>\n",
       "      <td>601166.SSE</td>\n",
       "      <td>20191231</td>\n",
       "      <td>2.088</td>\n",
       "    </tr>\n",
       "  </tbody>\n",
       "</table>\n",
       "</div>"
      ],
      "text/plain": [
       "  [1]SecuCode  [2]TradingDay  [3]Weight\n",
       "0  601318.SSE       20191231      6.715\n",
       "1  600519.SSE       20191231      4.312\n",
       "2  600036.SSE       20191231      2.812\n",
       "3  000651.SZE       20191231      2.289\n",
       "4  601166.SSE       20191231      2.088"
      ]
     },
     "execution_count": 4,
     "metadata": {},
     "output_type": "execute_result"
    }
   ],
   "source": [
    "df_alpha.head()"
   ]
  },
  {
   "cell_type": "code",
   "execution_count": 5,
   "metadata": {},
   "outputs": [],
   "source": [
    "# Part 2: count industry exposures\n",
    "df_alpha = df_alpha.merge(df_industry, left_on='[1]SecuCode', right_on='SecurityID')\n",
    "stock_weight_list = list(df_alpha['[3]Weight'])\n",
    "stock_industry_list = list(df_alpha['ZXF'])\n",
    "d = {}\n",
    "for i in range(len(stock_weight_list)):\n",
    "    d[stock_industry_list[i]] = d.get(stock_industry_list[i], 0) + stock_weight_list[i]\n",
    "ind_list = list(d.keys())\n",
    "ind_list.sort()\n",
    "n_ind = len(ind_list)\n",
    "weight_list = [d[ind] for ind in ind_list]"
   ]
  },
  {
   "cell_type": "code",
   "execution_count": 6,
   "metadata": {},
   "outputs": [
    {
     "name": "stdout",
     "output_type": "stream",
     "text": [
      "['10', '11', '12', '20', '21', '22', '23', '24', '25', '26', '27', '28', '30', '31', '32', '33', '34', '35', '36', '37', '40', '41', '42', '50', '60', '61', '62', '63', '70']\n",
      "[1.6809999999999998, 0.9169999999999998, 2.3649999999999998, 2.4930000000000003, 0.817, 1.228, 2.553, 1.4309999999999998, 0.237, 2.012, 1.775, 1.282, 2.5829999999999997, 0.603, 0.825, 5.243, 0.074, 7.133000000000002, 9.733000000000002, 1.974, 16.314, 17.129, 4.753, 3.0460000000000003, 5.767, 1.9459999999999997, 2.252, 1.6520000000000001, 0.178]\n"
     ]
    }
   ],
   "source": [
    "print(ind_list)\n",
    "print(weight_list)"
   ]
  },
  {
   "cell_type": "code",
   "execution_count": 7,
   "metadata": {},
   "outputs": [],
   "source": [
    "# Part 3: my exposure control plan\n",
    "# To find an intrustry exposure distribution satisfying the bound that no exposure is greater than 7\n",
    "# and being closest to the old distribution in the sense of being measured by the KL-divergence.\n",
    "def minimum_KL_divergence(old_weights):\n",
    "    init_guess = np.repeat(100/n_ind, n_ind)\n",
    "    bounds = ((0.0001, 7.0000),) * n_ind\n",
    "    weights_sum_to_100 = {'type': 'eq', 'fun': lambda weights: np.sum(weights) - 100.0}\n",
    "    def KL_divergence(weights, old_weights):\n",
    "        the_old_weights = np.divide(old_weights, np.sum(old_weights))\n",
    "        the_new_wrights = np.divide(weights, np.sum(weights))\n",
    "        return np.sum(np.multiply(the_old_weights, np.log(np.divide(the_old_weights, the_new_wrights))))\n",
    "    weights = minimize(KL_divergence, init_guess,\n",
    "                       args=(old_weights,), method='SLSQP',\n",
    "                       options={'disp': False},\n",
    "                       constraints=(weights_sum_to_100,),\n",
    "                       bounds=bounds)\n",
    "    return weights.x\n",
    "my_new_weight_list = minimum_KL_divergence(weight_list)"
   ]
  },
  {
   "cell_type": "code",
   "execution_count": 8,
   "metadata": {},
   "outputs": [
    {
     "name": "stdout",
     "output_type": "stream",
     "text": [
      "[2.51599696 1.3589545  3.58336235 3.7780598  1.22825423 1.80867947\n",
      " 3.86864776 2.12229479 0.34873018 3.03709943 2.66444674 1.89115136\n",
      " 3.91377703 0.97619156 1.23839112 7.         0.1118097  7.\n",
      " 7.         2.97759427 7.         7.         6.89330516 4.59602356\n",
      " 7.         2.93367786 3.4099082  2.47018772 0.27345626]\n"
     ]
    }
   ],
   "source": [
    "print(my_new_weight_list)"
   ]
  },
  {
   "cell_type": "code",
   "execution_count": 9,
   "metadata": {},
   "outputs": [],
   "source": [
    "# Part 4: find the ratios for adjustment for each industry\n",
    "ratio_list = np.divide(my_new_weight_list, weight_list)\n",
    "ratio_dic = {}\n",
    "for i in range(n_ind):\n",
    "    ratio_dic[ind_list[i]] = ratio_list[i]"
   ]
  },
  {
   "cell_type": "code",
   "execution_count": 10,
   "metadata": {},
   "outputs": [
    {
     "name": "stdout",
     "output_type": "stream",
     "text": [
      "{'10': 1.496726328583671, '11': 1.481956928254611, '12': 1.5151637824307413, '20': 1.5154672276905856, '21': 1.5033711558405778, '22': 1.47286601850625, '23': 1.5153340210663104, '24': 1.4830851058379446, '25': 1.471435340549872, '26': 1.509492759999593, '27': 1.5010967568747724, '28': 1.4751570654169204, '30': 1.5152059755201537, '31': 1.6188914720189376, '32': 1.5010801419898139, '33': 1.335113484646195, '34': 1.5109418704517248, '35': 0.9813542688910695, '36': 0.7192027124216581, '37': 1.5084064161166868, '40': 0.42907931837685426, '41': 0.40866366979975477, '42': 1.4503061569478772, '50': 1.508871818348909, '60': 1.2138026703658746, '61': 1.507542579246179, '62': 1.5141688266185647, '63': 1.4952710180871807, '70': 1.5362711363036265}\n"
     ]
    }
   ],
   "source": [
    "print(ratio_dic)"
   ]
  },
  {
   "cell_type": "code",
   "execution_count": 11,
   "metadata": {},
   "outputs": [],
   "source": [
    "# Part 5: adjust weights according to the ratios and save the result\n",
    "ratios = [ratio_dic[ind] for ind in stock_industry_list]\n",
    "new_weights = np.multiply(stock_weight_list, ratios)\n",
    "df_alpha['NewWeight'] = new_weights\n",
    "df_alpha = df_alpha[['[1]SecuCode','[2]TradingDay','[3]Weight','ZXF','NewWeight']]\n",
    "df_alpha.to_csv('my_industry_compression_scheme.csv')"
   ]
  },
  {
   "cell_type": "code",
   "execution_count": 12,
   "metadata": {},
   "outputs": [
    {
     "data": {
      "text/html": [
       "<div>\n",
       "<style scoped>\n",
       "    .dataframe tbody tr th:only-of-type {\n",
       "        vertical-align: middle;\n",
       "    }\n",
       "\n",
       "    .dataframe tbody tr th {\n",
       "        vertical-align: top;\n",
       "    }\n",
       "\n",
       "    .dataframe thead th {\n",
       "        text-align: right;\n",
       "    }\n",
       "</style>\n",
       "<table border=\"1\" class=\"dataframe\">\n",
       "  <thead>\n",
       "    <tr style=\"text-align: right;\">\n",
       "      <th></th>\n",
       "      <th>[1]SecuCode</th>\n",
       "      <th>[2]TradingDay</th>\n",
       "      <th>[3]Weight</th>\n",
       "      <th>ZXF</th>\n",
       "      <th>NewWeight</th>\n",
       "    </tr>\n",
       "  </thead>\n",
       "  <tbody>\n",
       "    <tr>\n",
       "      <th>0</th>\n",
       "      <td>601318.SSE</td>\n",
       "      <td>20191231</td>\n",
       "      <td>6.715</td>\n",
       "      <td>41</td>\n",
       "      <td>2.744177</td>\n",
       "    </tr>\n",
       "    <tr>\n",
       "      <th>1</th>\n",
       "      <td>600519.SSE</td>\n",
       "      <td>20191231</td>\n",
       "      <td>4.312</td>\n",
       "      <td>36</td>\n",
       "      <td>3.101202</td>\n",
       "    </tr>\n",
       "    <tr>\n",
       "      <th>2</th>\n",
       "      <td>600036.SSE</td>\n",
       "      <td>20191231</td>\n",
       "      <td>2.812</td>\n",
       "      <td>40</td>\n",
       "      <td>1.206571</td>\n",
       "    </tr>\n",
       "    <tr>\n",
       "      <th>3</th>\n",
       "      <td>000651.SZE</td>\n",
       "      <td>20191231</td>\n",
       "      <td>2.289</td>\n",
       "      <td>33</td>\n",
       "      <td>3.056075</td>\n",
       "    </tr>\n",
       "    <tr>\n",
       "      <th>4</th>\n",
       "      <td>601166.SSE</td>\n",
       "      <td>20191231</td>\n",
       "      <td>2.088</td>\n",
       "      <td>40</td>\n",
       "      <td>0.895918</td>\n",
       "    </tr>\n",
       "  </tbody>\n",
       "</table>\n",
       "</div>"
      ],
      "text/plain": [
       "  [1]SecuCode  [2]TradingDay  [3]Weight ZXF  NewWeight\n",
       "0  601318.SSE       20191231      6.715  41   2.744177\n",
       "1  600519.SSE       20191231      4.312  36   3.101202\n",
       "2  600036.SSE       20191231      2.812  40   1.206571\n",
       "3  000651.SZE       20191231      2.289  33   3.056075\n",
       "4  601166.SSE       20191231      2.088  40   0.895918"
      ]
     },
     "execution_count": 12,
     "metadata": {},
     "output_type": "execute_result"
    }
   ],
   "source": [
    "df_alpha.head()"
   ]
  },
  {
   "cell_type": "code",
   "execution_count": null,
   "metadata": {},
   "outputs": [],
   "source": []
  }
 ],
 "metadata": {
  "kernelspec": {
   "display_name": "Python 3",
   "language": "python",
   "name": "python3"
  },
  "language_info": {
   "codemirror_mode": {
    "name": "ipython",
    "version": 3
   },
   "file_extension": ".py",
   "mimetype": "text/x-python",
   "name": "python",
   "nbconvert_exporter": "python",
   "pygments_lexer": "ipython3",
   "version": "3.8.3"
  }
 },
 "nbformat": 4,
 "nbformat_minor": 4
}
